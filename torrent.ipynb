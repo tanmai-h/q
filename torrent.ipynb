{
  "nbformat": 4,
  "nbformat_minor": 0,
  "metadata": {
    "colab": {
      "name": "torrent.ipynb",
      "provenance": [],
      "include_colab_link": true
    },
    "kernelspec": {
      "name": "python3",
      "display_name": "Python 3"
    },
    "accelerator": "GPU"
  },
  "cells": [
    {
      "cell_type": "markdown",
      "metadata": {
        "id": "view-in-github",
        "colab_type": "text"
      },
      "source": [
        "<a href=\"https://colab.research.google.com/github/tanmai-h/q/blob/master/torrent.ipynb\" target=\"_parent\"><img src=\"https://colab.research.google.com/assets/colab-badge.svg\" alt=\"Open In Colab\"/></a>"
      ]
    },
    {
      "cell_type": "code",
      "metadata": {
        "id": "JpjInzoRs5Sh",
        "colab_type": "code",
        "outputId": "03bafcd8-6d6f-468b-d910-bf17c02580af",
        "colab": {
          "base_uri": "https://localhost:8080/",
          "height": 122
        }
      },
      "source": [
        "from google.colab import drive\n",
        "drive.mount('/content/drive', force_remount=True)"
      ],
      "execution_count": 0,
      "outputs": [
        {
          "output_type": "stream",
          "text": [
            "Go to this URL in a browser: https://accounts.google.com/o/oauth2/auth?client_id=947318989803-6bn6qk8qdgf4n4g3pfee6491hc0brc4i.apps.googleusercontent.com&redirect_uri=urn%3Aietf%3Awg%3Aoauth%3A2.0%3Aoob&scope=email%20https%3A%2F%2Fwww.googleapis.com%2Fauth%2Fdocs.test%20https%3A%2F%2Fwww.googleapis.com%2Fauth%2Fdrive%20https%3A%2F%2Fwww.googleapis.com%2Fauth%2Fdrive.photos.readonly%20https%3A%2F%2Fwww.googleapis.com%2Fauth%2Fpeopleapi.readonly&response_type=code\n",
            "\n",
            "Enter your authorization code:\n",
            "··········\n",
            "Mounted at /content/drive\n"
          ],
          "name": "stdout"
        }
      ]
    },
    {
      "cell_type": "code",
      "metadata": {
        "id": "bNLEKFths8t7",
        "colab_type": "code",
        "outputId": "66a7e778-b949-402b-fd8f-6ef577e01719",
        "colab": {
          "base_uri": "https://localhost:8080/",
          "height": 887
        }
      },
      "source": [
        "!sudo apt install transmission-cli"
      ],
      "execution_count": 0,
      "outputs": [
        {
          "output_type": "stream",
          "text": [
            "Reading package lists... Done\n",
            "Building dependency tree       \n",
            "Reading state information... Done\n",
            "The following additional packages will be installed:\n",
            "  libevent-2.1-6 libminiupnpc10 libnatpmp1 transmission-common\n",
            "Suggested packages:\n",
            "  minissdpd natpmpc transmission-daemon transmission-gtk\n",
            "The following NEW packages will be installed:\n",
            "  libevent-2.1-6 libminiupnpc10 libnatpmp1 transmission-cli\n",
            "  transmission-common\n",
            "0 upgraded, 5 newly installed, 0 to remove and 8 not upgraded.\n",
            "Need to get 808 kB of archives.\n",
            "After this operation, 3,975 kB of additional disk space will be used.\n",
            "Get:1 http://archive.ubuntu.com/ubuntu bionic/main amd64 libevent-2.1-6 amd64 2.1.8-stable-4build1 [133 kB]\n",
            "Get:2 http://archive.ubuntu.com/ubuntu bionic/main amd64 libminiupnpc10 amd64 1.9.20140610-4ubuntu2 [24.1 kB]\n",
            "Get:3 http://archive.ubuntu.com/ubuntu bionic/main amd64 libnatpmp1 amd64 20150609-2 [7,612 B]\n",
            "Get:4 http://archive.ubuntu.com/ubuntu bionic/main amd64 transmission-common all 2.92-3ubuntu2 [237 kB]\n",
            "Get:5 http://archive.ubuntu.com/ubuntu bionic/universe amd64 transmission-cli amd64 2.92-3ubuntu2 [406 kB]\n",
            "Fetched 808 kB in 0s (2,807 kB/s)\n",
            "debconf: unable to initialize frontend: Dialog\n",
            "debconf: (No usable dialog-like program is installed, so the dialog based frontend cannot be used. at /usr/share/perl5/Debconf/FrontEnd/Dialog.pm line 76, <> line 5.)\n",
            "debconf: falling back to frontend: Readline\n",
            "debconf: unable to initialize frontend: Readline\n",
            "debconf: (This frontend requires a controlling tty.)\n",
            "debconf: falling back to frontend: Teletype\n",
            "dpkg-preconfigure: unable to re-open stdin: \n",
            "Selecting previously unselected package libevent-2.1-6:amd64.\n",
            "(Reading database ... 131183 files and directories currently installed.)\n",
            "Preparing to unpack .../libevent-2.1-6_2.1.8-stable-4build1_amd64.deb ...\n",
            "Unpacking libevent-2.1-6:amd64 (2.1.8-stable-4build1) ...\n",
            "Selecting previously unselected package libminiupnpc10:amd64.\n",
            "Preparing to unpack .../libminiupnpc10_1.9.20140610-4ubuntu2_amd64.deb ...\n",
            "Unpacking libminiupnpc10:amd64 (1.9.20140610-4ubuntu2) ...\n",
            "Selecting previously unselected package libnatpmp1.\n",
            "Preparing to unpack .../libnatpmp1_20150609-2_amd64.deb ...\n",
            "Unpacking libnatpmp1 (20150609-2) ...\n",
            "Selecting previously unselected package transmission-common.\n",
            "Preparing to unpack .../transmission-common_2.92-3ubuntu2_all.deb ...\n",
            "Unpacking transmission-common (2.92-3ubuntu2) ...\n",
            "Selecting previously unselected package transmission-cli.\n",
            "Preparing to unpack .../transmission-cli_2.92-3ubuntu2_amd64.deb ...\n",
            "Unpacking transmission-cli (2.92-3ubuntu2) ...\n",
            "Setting up libevent-2.1-6:amd64 (2.1.8-stable-4build1) ...\n",
            "Setting up libminiupnpc10:amd64 (1.9.20140610-4ubuntu2) ...\n",
            "Setting up libnatpmp1 (20150609-2) ...\n",
            "Setting up transmission-common (2.92-3ubuntu2) ...\n",
            "Processing triggers for libc-bin (2.27-3ubuntu1) ...\n",
            "Setting up transmission-cli (2.92-3ubuntu2) ...\n",
            "Processing triggers for man-db (2.8.3-2ubuntu0.1) ...\n",
            "Processing triggers for hicolor-icon-theme (0.17-2) ...\n"
          ],
          "name": "stdout"
        }
      ]
    },
    {
      "cell_type": "code",
      "metadata": {
        "id": "3brvRmr7s-69",
        "colab_type": "code",
        "colab": {}
      },
      "source": [
        "!touch tmpfile\n",
        "!chmod a+x tmpfile\n",
        "!echo \"sudo service transmission-daemon\" > tmpfile"
      ],
      "execution_count": 0,
      "outputs": []
    },
    {
      "cell_type": "code",
      "metadata": {
        "id": "yx9-MmbNtBcr",
        "colab_type": "code",
        "colab": {}
      },
      "source": [
        "!transmission-cli -w /content/drive/My\\ Drive/movies -f tmpfile magnet:?xt=urn:btih:3F46C4C588563BD1517AB9773500F29B3B2876BF&dn=%5BFan_Made%5DMindhunter.SEASON.02.S02.COMPLETE.1080p.10bit.WEBRip.6CH.x265.HEVC-PSA&tr=udp%3A%2F%2Ftracker.coppersurfer.tk%3A6969%2Fannounce&tr=udp%3A%2F%2Ftracker.internetwarriors.net%3A1337%2Fannounce&tr=http%3A%2F%2Ftracker.internetwarriors.net%3A1337%2Fannounce&tr=udp%3A%2F%2Ftracker.opentrackr.org%3A1337%2Fannounce&tr=http%3A%2F%2Ftracker.opentrackr.org%3A1337%2Fannounce&tr=udp%3A%2F%2F9.rarbg.to%3A2710%2Fannounce&tr=udp%3A%2F%2F9.rarbg.me%3A2710%2Fannounce&tr=udp%3A%2F%2Ftracker.openbittorrent.com%3A80%2Fannounce&tr=http%3A%2F%2Ftracker3.itzmx.com%3A6961%2Fannounce&tr=http%3A%2F%2Ftracker1.itzmx.com%3A8080%2Fannounce&tr=udp%3A%2F%2Fexodus.desync.com%3A6969%2Fannounce&tr=udp%3A%2F%2Ftracker2.itzmx.com%3A6961%2Fannounce&tr=udp%3A%2F%2Fretracker.lanta-net.ru%3A2710%2Fannounce&tr=udp%3A%2F%2Fopen.stealth.si%3A80%2Fannounce&tr=udp%3A%2F%2Ftracker.zer0day.to%3A1337%2Fannounce&tr=udp%3A%2F%2Ftracker.leechers-paradise.org%3A6969%2Fannounce&tr=udp%3A%2F%2Fcoppersurfer.tk%3A6969%2Fannounce"
      ],
      "execution_count": 0,
      "outputs": []
    }
  ]
}